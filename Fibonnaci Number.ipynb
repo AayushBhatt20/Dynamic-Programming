{
 "cells": [
  {
   "cell_type": "code",
   "execution_count": 2,
   "metadata": {},
   "outputs": [
    {
     "name": "stdout",
     "output_type": "stream",
     "text": [
      "Enter a number : 8\n",
      "Answer :  21\n"
     ]
    }
   ],
   "source": [
    "#Recurssive fibonacci Number\n",
    "\n",
    "def fibb(n,l):            \n",
    "    if(n==0 or n==1):\n",
    "        return n\n",
    "    else:\n",
    "        if(l[n-1]==-1):\n",
    "            ans1=fibb(n-1,l)\n",
    "            l[n-1]=ans1\n",
    "        else:\n",
    "            ans1=l[n-1]\n",
    "        if(l[n-2]==-1):\n",
    "            ans2=fibb(n-2,l)\n",
    "            l[n-2]=ans2\n",
    "        else:\n",
    "            ans2=l[n-2]\n",
    "        result=ans1+ans2\n",
    "        return result\n",
    "    \n",
    "a=int(input(\"Enter a number : \"))\n",
    "l=[-1 for i in range(a+1)]\n",
    "print(\"Answer : \",fibb(a,l))"
   ]
  },
  {
   "cell_type": "code",
   "execution_count": 5,
   "metadata": {},
   "outputs": [
    {
     "name": "stdout",
     "output_type": "stream",
     "text": [
      "Enter a number : 8\n",
      "Answer :  21\n"
     ]
    }
   ],
   "source": [
    "#Iterative Fibonacci Number\n",
    "\n",
    "def fibb(n):\n",
    "    l=[-1 for i in range(n+1)]\n",
    "    l[0]=0\n",
    "    l[1]=1\n",
    "    i=2\n",
    "    while i<=n:\n",
    "        l[i]=l[i-1]+l[i-2]\n",
    "        i+=1\n",
    "    return l[n]\n",
    "\n",
    "a = int(input(\"Enter a number : \"))\n",
    "print(\"Answer : \",fibb(a))"
   ]
  }
 ],
 "metadata": {
  "kernelspec": {
   "display_name": "Python 3",
   "language": "python",
   "name": "python3"
  },
  "language_info": {
   "codemirror_mode": {
    "name": "ipython",
    "version": 3
   },
   "file_extension": ".py",
   "mimetype": "text/x-python",
   "name": "python",
   "nbconvert_exporter": "python",
   "pygments_lexer": "ipython3",
   "version": "3.8.3"
  }
 },
 "nbformat": 4,
 "nbformat_minor": 4
}
